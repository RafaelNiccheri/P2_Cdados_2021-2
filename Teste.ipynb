{
 "cells": [
  {
   "cell_type": "code",
   "execution_count": 49,
   "outputs": [],
   "source": [
    "from scipy.stats import norm, expon, poisson as pois, binom, uniform as uni\n",
    "import pandas as pd\n",
    "import sklearn\n",
    "from tqdm.notebook import tqdm\n",
    "import statsmodels\n",
    "import numpy as np\n",
    "import tensorflow as tf\n",
    "from tensorflow import keras\n",
    "import matplotlib as mpl\n",
    "mpl.use('Qt5Agg')\n",
    "import matplotlib.pyplot as plt"
   ],
   "metadata": {
    "collapsed": false,
    "pycharm": {
     "name": "#%%\n"
    }
   }
  },
  {
   "cell_type": "code",
   "execution_count": 50,
   "metadata": {
    "collapsed": true
   },
   "outputs": [
    {
     "data": {
      "text/plain": "            ph    Hardness        Solids  Chloramines     Sulfate  \\\n0          NaN  204.890455  20791.318981     7.300212  368.516441   \n1     3.716080  129.422921  18630.057858     6.635246         NaN   \n2     8.099124  224.236259  19909.541732     9.275884         NaN   \n3     8.316766  214.373394  22018.417441     8.059332  356.886136   \n4     9.092223  181.101509  17978.986339     6.546600  310.135738   \n...        ...         ...           ...          ...         ...   \n3271  4.668102  193.681735  47580.991603     7.166639  359.948574   \n3272  7.808856  193.553212  17329.802160     8.061362         NaN   \n3273  9.419510  175.762646  33155.578218     7.350233         NaN   \n3274  5.126763  230.603758  11983.869376     6.303357         NaN   \n3275  7.874671  195.102299  17404.177061     7.509306         NaN   \n\n      Conductivity  Organic_carbon  Trihalomethanes  Turbidity  Potability  \n0       564.308654       10.379783        86.990970   2.963135           0  \n1       592.885359       15.180013        56.329076   4.500656           0  \n2       418.606213       16.868637        66.420093   3.055934           0  \n3       363.266516       18.436524       100.341674   4.628771           0  \n4       398.410813       11.558279        31.997993   4.075075           0  \n...            ...             ...              ...        ...         ...  \n3271    526.424171       13.894419        66.687695   4.435821           1  \n3272    392.449580       19.903225              NaN   2.798243           1  \n3273    432.044783       11.039070        69.845400   3.298875           1  \n3274    402.883113       11.168946        77.488213   4.708658           1  \n3275    327.459760       16.140368        78.698446   2.309149           1  \n\n[3276 rows x 10 columns]",
      "text/html": "<div>\n<style scoped>\n    .dataframe tbody tr th:only-of-type {\n        vertical-align: middle;\n    }\n\n    .dataframe tbody tr th {\n        vertical-align: top;\n    }\n\n    .dataframe thead th {\n        text-align: right;\n    }\n</style>\n<table border=\"1\" class=\"dataframe\">\n  <thead>\n    <tr style=\"text-align: right;\">\n      <th></th>\n      <th>ph</th>\n      <th>Hardness</th>\n      <th>Solids</th>\n      <th>Chloramines</th>\n      <th>Sulfate</th>\n      <th>Conductivity</th>\n      <th>Organic_carbon</th>\n      <th>Trihalomethanes</th>\n      <th>Turbidity</th>\n      <th>Potability</th>\n    </tr>\n  </thead>\n  <tbody>\n    <tr>\n      <th>0</th>\n      <td>NaN</td>\n      <td>204.890455</td>\n      <td>20791.318981</td>\n      <td>7.300212</td>\n      <td>368.516441</td>\n      <td>564.308654</td>\n      <td>10.379783</td>\n      <td>86.990970</td>\n      <td>2.963135</td>\n      <td>0</td>\n    </tr>\n    <tr>\n      <th>1</th>\n      <td>3.716080</td>\n      <td>129.422921</td>\n      <td>18630.057858</td>\n      <td>6.635246</td>\n      <td>NaN</td>\n      <td>592.885359</td>\n      <td>15.180013</td>\n      <td>56.329076</td>\n      <td>4.500656</td>\n      <td>0</td>\n    </tr>\n    <tr>\n      <th>2</th>\n      <td>8.099124</td>\n      <td>224.236259</td>\n      <td>19909.541732</td>\n      <td>9.275884</td>\n      <td>NaN</td>\n      <td>418.606213</td>\n      <td>16.868637</td>\n      <td>66.420093</td>\n      <td>3.055934</td>\n      <td>0</td>\n    </tr>\n    <tr>\n      <th>3</th>\n      <td>8.316766</td>\n      <td>214.373394</td>\n      <td>22018.417441</td>\n      <td>8.059332</td>\n      <td>356.886136</td>\n      <td>363.266516</td>\n      <td>18.436524</td>\n      <td>100.341674</td>\n      <td>4.628771</td>\n      <td>0</td>\n    </tr>\n    <tr>\n      <th>4</th>\n      <td>9.092223</td>\n      <td>181.101509</td>\n      <td>17978.986339</td>\n      <td>6.546600</td>\n      <td>310.135738</td>\n      <td>398.410813</td>\n      <td>11.558279</td>\n      <td>31.997993</td>\n      <td>4.075075</td>\n      <td>0</td>\n    </tr>\n    <tr>\n      <th>...</th>\n      <td>...</td>\n      <td>...</td>\n      <td>...</td>\n      <td>...</td>\n      <td>...</td>\n      <td>...</td>\n      <td>...</td>\n      <td>...</td>\n      <td>...</td>\n      <td>...</td>\n    </tr>\n    <tr>\n      <th>3271</th>\n      <td>4.668102</td>\n      <td>193.681735</td>\n      <td>47580.991603</td>\n      <td>7.166639</td>\n      <td>359.948574</td>\n      <td>526.424171</td>\n      <td>13.894419</td>\n      <td>66.687695</td>\n      <td>4.435821</td>\n      <td>1</td>\n    </tr>\n    <tr>\n      <th>3272</th>\n      <td>7.808856</td>\n      <td>193.553212</td>\n      <td>17329.802160</td>\n      <td>8.061362</td>\n      <td>NaN</td>\n      <td>392.449580</td>\n      <td>19.903225</td>\n      <td>NaN</td>\n      <td>2.798243</td>\n      <td>1</td>\n    </tr>\n    <tr>\n      <th>3273</th>\n      <td>9.419510</td>\n      <td>175.762646</td>\n      <td>33155.578218</td>\n      <td>7.350233</td>\n      <td>NaN</td>\n      <td>432.044783</td>\n      <td>11.039070</td>\n      <td>69.845400</td>\n      <td>3.298875</td>\n      <td>1</td>\n    </tr>\n    <tr>\n      <th>3274</th>\n      <td>5.126763</td>\n      <td>230.603758</td>\n      <td>11983.869376</td>\n      <td>6.303357</td>\n      <td>NaN</td>\n      <td>402.883113</td>\n      <td>11.168946</td>\n      <td>77.488213</td>\n      <td>4.708658</td>\n      <td>1</td>\n    </tr>\n    <tr>\n      <th>3275</th>\n      <td>7.874671</td>\n      <td>195.102299</td>\n      <td>17404.177061</td>\n      <td>7.509306</td>\n      <td>NaN</td>\n      <td>327.459760</td>\n      <td>16.140368</td>\n      <td>78.698446</td>\n      <td>2.309149</td>\n      <td>1</td>\n    </tr>\n  </tbody>\n</table>\n<p>3276 rows × 10 columns</p>\n</div>"
     },
     "execution_count": 50,
     "metadata": {},
     "output_type": "execute_result"
    }
   ],
   "source": [
    "df_agua = pd.read_csv('DataBase/water_potability.csv')\n",
    "df_agua"
   ]
  },
  {
   "cell_type": "code",
   "execution_count": 51,
   "outputs": [
    {
     "data": {
      "text/plain": "                       ph  Hardness    Solids  Chloramines   Sulfate  \\\nph               1.000000  0.082096 -0.089288    -0.034350  0.018203   \nHardness         0.082096  1.000000 -0.046899    -0.030054 -0.106923   \nSolids          -0.089288 -0.046899  1.000000    -0.070148 -0.171804   \nChloramines     -0.034350 -0.030054 -0.070148     1.000000  0.027244   \nSulfate          0.018203 -0.106923 -0.171804     0.027244  1.000000   \nConductivity     0.018614 -0.023915  0.013831    -0.020486 -0.016121   \nOrganic_carbon   0.043503  0.003610  0.010242    -0.012653  0.030831   \nTrihalomethanes  0.003354 -0.013013 -0.009143     0.017084 -0.030274   \nTurbidity       -0.039057 -0.014449  0.019546     0.002363 -0.011187   \nPotability      -0.003556 -0.013837  0.033743     0.023779 -0.023577   \n\n                 Conductivity  Organic_carbon  Trihalomethanes  Turbidity  \\\nph                   0.018614        0.043503         0.003354  -0.039057   \nHardness            -0.023915        0.003610        -0.013013  -0.014449   \nSolids               0.013831        0.010242        -0.009143   0.019546   \nChloramines         -0.020486       -0.012653         0.017084   0.002363   \nSulfate             -0.016121        0.030831        -0.030274  -0.011187   \nConductivity         1.000000        0.020966         0.001285   0.005798   \nOrganic_carbon       0.020966        1.000000        -0.013274  -0.027308   \nTrihalomethanes      0.001285       -0.013274         1.000000  -0.022145   \nTurbidity            0.005798       -0.027308        -0.022145   1.000000   \nPotability          -0.008128       -0.030001         0.007130   0.001581   \n\n                 Potability  Sulfato_na  \nph                -0.003556   -0.003380  \nHardness          -0.013837    0.008482  \nSolids             0.033743   -0.010554  \nChloramines        0.023779    0.003452  \nSulfate           -0.023577         NaN  \nConductivity      -0.008128    0.014941  \nOrganic_carbon    -0.030001   -0.023424  \nTrihalomethanes    0.007130    0.011342  \nTurbidity          0.001581   -0.002739  \nPotability         1.000000   -0.017148  ",
      "text/html": "<div>\n<style scoped>\n    .dataframe tbody tr th:only-of-type {\n        vertical-align: middle;\n    }\n\n    .dataframe tbody tr th {\n        vertical-align: top;\n    }\n\n    .dataframe thead th {\n        text-align: right;\n    }\n</style>\n<table border=\"1\" class=\"dataframe\">\n  <thead>\n    <tr style=\"text-align: right;\">\n      <th></th>\n      <th>ph</th>\n      <th>Hardness</th>\n      <th>Solids</th>\n      <th>Chloramines</th>\n      <th>Sulfate</th>\n      <th>Conductivity</th>\n      <th>Organic_carbon</th>\n      <th>Trihalomethanes</th>\n      <th>Turbidity</th>\n      <th>Potability</th>\n      <th>Sulfato_na</th>\n    </tr>\n  </thead>\n  <tbody>\n    <tr>\n      <th>ph</th>\n      <td>1.000000</td>\n      <td>0.082096</td>\n      <td>-0.089288</td>\n      <td>-0.034350</td>\n      <td>0.018203</td>\n      <td>0.018614</td>\n      <td>0.043503</td>\n      <td>0.003354</td>\n      <td>-0.039057</td>\n      <td>-0.003556</td>\n      <td>-0.003380</td>\n    </tr>\n    <tr>\n      <th>Hardness</th>\n      <td>0.082096</td>\n      <td>1.000000</td>\n      <td>-0.046899</td>\n      <td>-0.030054</td>\n      <td>-0.106923</td>\n      <td>-0.023915</td>\n      <td>0.003610</td>\n      <td>-0.013013</td>\n      <td>-0.014449</td>\n      <td>-0.013837</td>\n      <td>0.008482</td>\n    </tr>\n    <tr>\n      <th>Solids</th>\n      <td>-0.089288</td>\n      <td>-0.046899</td>\n      <td>1.000000</td>\n      <td>-0.070148</td>\n      <td>-0.171804</td>\n      <td>0.013831</td>\n      <td>0.010242</td>\n      <td>-0.009143</td>\n      <td>0.019546</td>\n      <td>0.033743</td>\n      <td>-0.010554</td>\n    </tr>\n    <tr>\n      <th>Chloramines</th>\n      <td>-0.034350</td>\n      <td>-0.030054</td>\n      <td>-0.070148</td>\n      <td>1.000000</td>\n      <td>0.027244</td>\n      <td>-0.020486</td>\n      <td>-0.012653</td>\n      <td>0.017084</td>\n      <td>0.002363</td>\n      <td>0.023779</td>\n      <td>0.003452</td>\n    </tr>\n    <tr>\n      <th>Sulfate</th>\n      <td>0.018203</td>\n      <td>-0.106923</td>\n      <td>-0.171804</td>\n      <td>0.027244</td>\n      <td>1.000000</td>\n      <td>-0.016121</td>\n      <td>0.030831</td>\n      <td>-0.030274</td>\n      <td>-0.011187</td>\n      <td>-0.023577</td>\n      <td>NaN</td>\n    </tr>\n    <tr>\n      <th>Conductivity</th>\n      <td>0.018614</td>\n      <td>-0.023915</td>\n      <td>0.013831</td>\n      <td>-0.020486</td>\n      <td>-0.016121</td>\n      <td>1.000000</td>\n      <td>0.020966</td>\n      <td>0.001285</td>\n      <td>0.005798</td>\n      <td>-0.008128</td>\n      <td>0.014941</td>\n    </tr>\n    <tr>\n      <th>Organic_carbon</th>\n      <td>0.043503</td>\n      <td>0.003610</td>\n      <td>0.010242</td>\n      <td>-0.012653</td>\n      <td>0.030831</td>\n      <td>0.020966</td>\n      <td>1.000000</td>\n      <td>-0.013274</td>\n      <td>-0.027308</td>\n      <td>-0.030001</td>\n      <td>-0.023424</td>\n    </tr>\n    <tr>\n      <th>Trihalomethanes</th>\n      <td>0.003354</td>\n      <td>-0.013013</td>\n      <td>-0.009143</td>\n      <td>0.017084</td>\n      <td>-0.030274</td>\n      <td>0.001285</td>\n      <td>-0.013274</td>\n      <td>1.000000</td>\n      <td>-0.022145</td>\n      <td>0.007130</td>\n      <td>0.011342</td>\n    </tr>\n    <tr>\n      <th>Turbidity</th>\n      <td>-0.039057</td>\n      <td>-0.014449</td>\n      <td>0.019546</td>\n      <td>0.002363</td>\n      <td>-0.011187</td>\n      <td>0.005798</td>\n      <td>-0.027308</td>\n      <td>-0.022145</td>\n      <td>1.000000</td>\n      <td>0.001581</td>\n      <td>-0.002739</td>\n    </tr>\n    <tr>\n      <th>Potability</th>\n      <td>-0.003556</td>\n      <td>-0.013837</td>\n      <td>0.033743</td>\n      <td>0.023779</td>\n      <td>-0.023577</td>\n      <td>-0.008128</td>\n      <td>-0.030001</td>\n      <td>0.007130</td>\n      <td>0.001581</td>\n      <td>1.000000</td>\n      <td>-0.017148</td>\n    </tr>\n  </tbody>\n</table>\n</div>"
     },
     "execution_count": 51,
     "metadata": {},
     "output_type": "execute_result"
    }
   ],
   "source": [
    "pd.DataFrame.from_dict({**{k: {i: df_agua[k].corr(df_agua[i]) for i in list(df_agua)} for k in list(df_agua)},\n",
    "                        **{'Sulfato_na': {i: df_agua['Sulfate'].isna().corr(df_agua[i]) for i in list(df_agua)}}})"
   ],
   "metadata": {
    "collapsed": false,
    "pycharm": {
     "name": "#%%\n"
    }
   }
  },
  {
   "cell_type": "code",
   "execution_count": 52,
   "outputs": [
    {
     "data": {
      "text/plain": "                      ph       Hardness        Solids   Chloramines  \\\nSulfate                                                               \n(100, 200]     41.217291    1390.849069  2.136597e+05     62.334002   \n(200, 300]   2738.399672   93140.327891  1.150551e+07   3261.478099   \n(300, 400]  11422.639189  370294.373365  4.044337e+07  13434.888267   \n(400, 500]    787.115474   24727.104161  2.891779e+06   1003.752214   \n\n                  Sulfate   Conductivity  Organic_carbon  Trihalomethanes  \\\nSulfate                                                                     \n(100, 200]    1058.232554    2714.941131       65.089762       433.041204   \n(200, 300]  129514.667820  199508.669879     6528.501431     30580.952958   \n(300, 400]  644151.555619  801702.845009    27148.638982    117636.689146   \n(400, 500]   58046.106651   57769.857092     2006.923301      8664.492215   \n\n              Turbidity  Potability  \nSulfate                              \n(100, 200]    24.160863           6  \n(200, 300]  1857.332158         231  \n(300, 400]  7457.102608         675  \n(400, 500]   561.519393          73  ",
      "text/html": "<div>\n<style scoped>\n    .dataframe tbody tr th:only-of-type {\n        vertical-align: middle;\n    }\n\n    .dataframe tbody tr th {\n        vertical-align: top;\n    }\n\n    .dataframe thead th {\n        text-align: right;\n    }\n</style>\n<table border=\"1\" class=\"dataframe\">\n  <thead>\n    <tr style=\"text-align: right;\">\n      <th></th>\n      <th>ph</th>\n      <th>Hardness</th>\n      <th>Solids</th>\n      <th>Chloramines</th>\n      <th>Sulfate</th>\n      <th>Conductivity</th>\n      <th>Organic_carbon</th>\n      <th>Trihalomethanes</th>\n      <th>Turbidity</th>\n      <th>Potability</th>\n    </tr>\n    <tr>\n      <th>Sulfate</th>\n      <th></th>\n      <th></th>\n      <th></th>\n      <th></th>\n      <th></th>\n      <th></th>\n      <th></th>\n      <th></th>\n      <th></th>\n      <th></th>\n    </tr>\n  </thead>\n  <tbody>\n    <tr>\n      <th>(100, 200]</th>\n      <td>41.217291</td>\n      <td>1390.849069</td>\n      <td>2.136597e+05</td>\n      <td>62.334002</td>\n      <td>1058.232554</td>\n      <td>2714.941131</td>\n      <td>65.089762</td>\n      <td>433.041204</td>\n      <td>24.160863</td>\n      <td>6</td>\n    </tr>\n    <tr>\n      <th>(200, 300]</th>\n      <td>2738.399672</td>\n      <td>93140.327891</td>\n      <td>1.150551e+07</td>\n      <td>3261.478099</td>\n      <td>129514.667820</td>\n      <td>199508.669879</td>\n      <td>6528.501431</td>\n      <td>30580.952958</td>\n      <td>1857.332158</td>\n      <td>231</td>\n    </tr>\n    <tr>\n      <th>(300, 400]</th>\n      <td>11422.639189</td>\n      <td>370294.373365</td>\n      <td>4.044337e+07</td>\n      <td>13434.888267</td>\n      <td>644151.555619</td>\n      <td>801702.845009</td>\n      <td>27148.638982</td>\n      <td>117636.689146</td>\n      <td>7457.102608</td>\n      <td>675</td>\n    </tr>\n    <tr>\n      <th>(400, 500]</th>\n      <td>787.115474</td>\n      <td>24727.104161</td>\n      <td>2.891779e+06</td>\n      <td>1003.752214</td>\n      <td>58046.106651</td>\n      <td>57769.857092</td>\n      <td>2006.923301</td>\n      <td>8664.492215</td>\n      <td>561.519393</td>\n      <td>73</td>\n    </tr>\n  </tbody>\n</table>\n</div>"
     },
     "execution_count": 52,
     "metadata": {},
     "output_type": "execute_result"
    }
   ],
   "source": [
    "df_agua.groupby(pd.cut(df_agua[\"Sulfate\"], [100, 200, 300, 400, 500])).sum()"
   ],
   "metadata": {
    "collapsed": false,
    "pycharm": {
     "name": "#%%\n"
    }
   }
  },
  {
   "cell_type": "code",
   "execution_count": 53,
   "outputs": [
    {
     "name": "stdout",
     "output_type": "stream",
     "text": [
      " 37.516005121638926% de NaN (Sulfato) sao potáveis\n",
      " 23.84004884004884% das linhas nao tem dados para Sulfato\n"
     ]
    }
   ],
   "source": [
    "Sulf_NaN = df_agua.loc[df_agua['Sulfate'].isna()]; Sulf_NaN_Pot = Sulf_NaN['Potability'].sum()\n",
    "print(f' {Sulf_NaN_Pot * 100 / Sulf_NaN.Sulfate.size}% de NaN (Sulfato) sao potáveis')\n",
    "print(f' {Sulf_NaN.Sulfate.size * 100 / df_agua.Sulfate.size}% das linhas nao tem dados para Sulfato')"
   ],
   "metadata": {
    "collapsed": false,
    "pycharm": {
     "name": "#%%\n"
    }
   }
  },
  {
   "cell_type": "code",
   "execution_count": 54,
   "outputs": [
    {
     "name": "stdout",
     "output_type": "stream",
     "text": [
      "media de sulfato em aguas nao potaveis 252.84888751942893 e em aguas potaveis 256.3211935682008 considerando tds as amostras\n"
     ]
    }
   ],
   "source": [
    "sulfato0 = df_agua.loc[df_agua['Potability']==0]; sulfato1 = df_agua.loc[df_agua['Potability']==1]\n",
    "print(f\"media de sulfato em aguas nao potaveis {sulfato0['Sulfate'].sum() / sulfato0['Sulfate'].size} e em aguas potaveis {sulfato1['Sulfate'].sum() / sulfato1['Sulfate'].size} considerando tds as amostras\")\n"
   ],
   "metadata": {
    "collapsed": false,
    "pycharm": {
     "name": "#%%\n"
    }
   }
  },
  {
   "cell_type": "code",
   "execution_count": 55,
   "outputs": [
    {
     "name": "stdout",
     "output_type": "stream",
     "text": [
      "media de sulfato em aguas nao potaveis 334.5642895786881 e em aguas potaveis 332.56699023366554 considerando somente as amostras com dados para sulfato\n"
     ]
    }
   ],
   "source": [
    "sulfato_semNaN = df_agua[['Sulfate', 'Potability']].dropna()\n",
    "sulfato0_semNaN = sulfato_semNaN.loc[sulfato_semNaN['Potability']==0]; sulfato1_semNaN = sulfato_semNaN.loc[sulfato_semNaN['Potability']==1]\n",
    "\n",
    "print(f\"media de sulfato em aguas nao potaveis {sulfato0_semNaN['Sulfate'].sum() / sulfato0_semNaN['Sulfate'].size} e em aguas potaveis {sulfato1_semNaN['Sulfate'].sum() / sulfato1_semNaN['Sulfate'].size} considerando somente as amostras com dados para sulfato\")"
   ],
   "metadata": {
    "collapsed": false,
    "pycharm": {
     "name": "#%%\n"
    }
   }
  }
 ],
 "metadata": {
  "kernelspec": {
   "display_name": "Python 3",
   "language": "python",
   "name": "python3"
  },
  "language_info": {
   "codemirror_mode": {
    "name": "ipython",
    "version": 2
   },
   "file_extension": ".py",
   "mimetype": "text/x-python",
   "name": "python",
   "nbconvert_exporter": "python",
   "pygments_lexer": "ipython2",
   "version": "2.7.6"
  }
 },
 "nbformat": 4,
 "nbformat_minor": 0
}